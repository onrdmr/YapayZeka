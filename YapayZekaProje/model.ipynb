{
 "cells": [
  {
   "cell_type": "code",
   "execution_count": 249,
   "metadata": {},
   "outputs": [],
   "source": [
    "import pandas as pd\n",
    "\n",
    "from sklearn.model_selection import train_test_split, KFold, cross_val_score\n",
    "\n",
    "from sklearn.tree import DecisionTreeRegressor\n",
    "from sklearn.neighbors import KNeighborsRegressor\n",
    "from sklearn.ensemble import RandomForestRegressor\n",
    "from sklearn.linear_model import LinearRegression\n",
    "from sklearn.linear_model import LogisticRegression\n",
    "from sklearn.svm import SVR\n",
    "from sklearn.linear_model import BayesianRidge\n",
    "\n",
    "from sklearn.preprocessing import Normalizer\n",
    "from sklearn.preprocessing import MinMaxScaler\n",
    "from sklearn.preprocessing import StandardScaler"
   ]
  },
  {
   "cell_type": "code",
   "execution_count": 250,
   "metadata": {},
   "outputs": [
    {
     "name": "stdout",
     "output_type": "stream",
     "text": [
      "(4253, 26)\n"
     ]
    },
    {
     "data": {
      "text/plain": [
       "osu       2364\n",
       "taiko      786\n",
       "mania      759\n",
       "fruits     344\n",
       "Name: mode, dtype: int64"
      ]
     },
     "execution_count": 250,
     "metadata": {},
     "output_type": "execute_result"
    }
   ],
   "source": [
    "df = pd.read_csv('osuDataset.csv')\n",
    "print(df.shape)\n",
    "df['mode'].value_counts()"
   ]
  },
  {
   "cell_type": "code",
   "execution_count": 251,
   "metadata": {},
   "outputs": [
    {
     "name": "stdout",
     "output_type": "stream",
     "text": [
      "(2364, 26)\n"
     ]
    },
    {
     "data": {
      "text/plain": [
       "osu    2364\n",
       "Name: mode, dtype: int64"
      ]
     },
     "execution_count": 251,
     "metadata": {},
     "output_type": "execute_result"
    }
   ],
   "source": [
    "df = df.query(\"mode == 'osu'\")\n",
    "print(df.shape)\n",
    "df['mode'].value_counts()"
   ]
  },
  {
   "cell_type": "code",
   "execution_count": 252,
   "metadata": {},
   "outputs": [
    {
     "name": "stdout",
     "output_type": "stream",
     "text": [
      "<class 'pandas.core.frame.DataFrame'>\n",
      "Int64Index: 2364 entries, 13 to 4247\n",
      "Data columns (total 26 columns):\n",
      " #   Column             Non-Null Count  Dtype  \n",
      "---  ------             --------------  -----  \n",
      " 0   beatmapset_id      2364 non-null   int64  \n",
      " 1   difficulty_rating  2364 non-null   float64\n",
      " 2   id                 2364 non-null   int64  \n",
      " 3   mode               2364 non-null   object \n",
      " 4   status             2364 non-null   object \n",
      " 5   total_length       2364 non-null   int64  \n",
      " 6   user_id            2364 non-null   int64  \n",
      " 7   version            2364 non-null   object \n",
      " 8   accuracy           2364 non-null   float64\n",
      " 9   ar                 2364 non-null   float64\n",
      " 10  bpm                2364 non-null   float64\n",
      " 11  convert            2364 non-null   bool   \n",
      " 12  count_circles      2364 non-null   int64  \n",
      " 13  count_sliders      2364 non-null   int64  \n",
      " 14  count_spinners     2364 non-null   int64  \n",
      " 15  cs                 2364 non-null   float64\n",
      " 16  deleted_at         0 non-null      float64\n",
      " 17  drain              2364 non-null   float64\n",
      " 18  hit_length         2364 non-null   int64  \n",
      " 19  is_scoreable       2364 non-null   bool   \n",
      " 20  last_updated       2364 non-null   object \n",
      " 21  mode_int           2364 non-null   int64  \n",
      " 22  passcount          2364 non-null   int64  \n",
      " 23  playcount          2364 non-null   int64  \n",
      " 24  ranked             2364 non-null   int64  \n",
      " 25  url                2364 non-null   object \n",
      "dtypes: bool(2), float64(7), int64(12), object(5)\n",
      "memory usage: 466.3+ KB\n"
     ]
    }
   ],
   "source": [
    "df.info()"
   ]
  },
  {
   "cell_type": "code",
   "execution_count": 253,
   "metadata": {},
   "outputs": [
    {
     "data": {
      "text/html": [
       "<div>\n",
       "<style scoped>\n",
       "    .dataframe tbody tr th:only-of-type {\n",
       "        vertical-align: middle;\n",
       "    }\n",
       "\n",
       "    .dataframe tbody tr th {\n",
       "        vertical-align: top;\n",
       "    }\n",
       "\n",
       "    .dataframe thead th {\n",
       "        text-align: right;\n",
       "    }\n",
       "</style>\n",
       "<table border=\"1\" class=\"dataframe\">\n",
       "  <thead>\n",
       "    <tr style=\"text-align: right;\">\n",
       "      <th></th>\n",
       "      <th>total_length</th>\n",
       "      <th>cs</th>\n",
       "      <th>drain</th>\n",
       "      <th>ar</th>\n",
       "      <th>accuracy</th>\n",
       "      <th>bpm</th>\n",
       "    </tr>\n",
       "  </thead>\n",
       "  <tbody>\n",
       "    <tr>\n",
       "      <th>count</th>\n",
       "      <td>2364.000000</td>\n",
       "      <td>2364.000000</td>\n",
       "      <td>2364.000000</td>\n",
       "      <td>2364.000000</td>\n",
       "      <td>2364.000000</td>\n",
       "      <td>2364.000000</td>\n",
       "    </tr>\n",
       "    <tr>\n",
       "      <th>mean</th>\n",
       "      <td>161.904399</td>\n",
       "      <td>3.830795</td>\n",
       "      <td>4.683756</td>\n",
       "      <td>7.806345</td>\n",
       "      <td>6.871701</td>\n",
       "      <td>165.562418</td>\n",
       "    </tr>\n",
       "    <tr>\n",
       "      <th>std</th>\n",
       "      <td>84.689761</td>\n",
       "      <td>0.633538</td>\n",
       "      <td>1.095348</td>\n",
       "      <td>1.744984</td>\n",
       "      <td>1.922165</td>\n",
       "      <td>37.283910</td>\n",
       "    </tr>\n",
       "    <tr>\n",
       "      <th>min</th>\n",
       "      <td>33.000000</td>\n",
       "      <td>0.000000</td>\n",
       "      <td>0.000000</td>\n",
       "      <td>0.000000</td>\n",
       "      <td>0.000000</td>\n",
       "      <td>57.333300</td>\n",
       "    </tr>\n",
       "    <tr>\n",
       "      <th>25%</th>\n",
       "      <td>90.000000</td>\n",
       "      <td>3.500000</td>\n",
       "      <td>4.000000</td>\n",
       "      <td>7.000000</td>\n",
       "      <td>6.000000</td>\n",
       "      <td>140.000000</td>\n",
       "    </tr>\n",
       "    <tr>\n",
       "      <th>50%</th>\n",
       "      <td>144.000000</td>\n",
       "      <td>4.000000</td>\n",
       "      <td>5.000000</td>\n",
       "      <td>8.500000</td>\n",
       "      <td>7.500000</td>\n",
       "      <td>172.000000</td>\n",
       "    </tr>\n",
       "    <tr>\n",
       "      <th>75%</th>\n",
       "      <td>219.000000</td>\n",
       "      <td>4.000000</td>\n",
       "      <td>5.400000</td>\n",
       "      <td>9.000000</td>\n",
       "      <td>8.400000</td>\n",
       "      <td>187.000000</td>\n",
       "    </tr>\n",
       "    <tr>\n",
       "      <th>max</th>\n",
       "      <td>1648.000000</td>\n",
       "      <td>10.000000</td>\n",
       "      <td>9.000000</td>\n",
       "      <td>10.000000</td>\n",
       "      <td>10.000000</td>\n",
       "      <td>300.999000</td>\n",
       "    </tr>\n",
       "  </tbody>\n",
       "</table>\n",
       "</div>"
      ],
      "text/plain": [
       "       total_length           cs        drain           ar     accuracy  \\\n",
       "count   2364.000000  2364.000000  2364.000000  2364.000000  2364.000000   \n",
       "mean     161.904399     3.830795     4.683756     7.806345     6.871701   \n",
       "std       84.689761     0.633538     1.095348     1.744984     1.922165   \n",
       "min       33.000000     0.000000     0.000000     0.000000     0.000000   \n",
       "25%       90.000000     3.500000     4.000000     7.000000     6.000000   \n",
       "50%      144.000000     4.000000     5.000000     8.500000     7.500000   \n",
       "75%      219.000000     4.000000     5.400000     9.000000     8.400000   \n",
       "max     1648.000000    10.000000     9.000000    10.000000    10.000000   \n",
       "\n",
       "               bpm  \n",
       "count  2364.000000  \n",
       "mean    165.562418  \n",
       "std      37.283910  \n",
       "min      57.333300  \n",
       "25%     140.000000  \n",
       "50%     172.000000  \n",
       "75%     187.000000  \n",
       "max     300.999000  "
      ]
     },
     "execution_count": 253,
     "metadata": {},
     "output_type": "execute_result"
    }
   ],
   "source": [
    "y = df['difficulty_rating']\n",
    "x = df[['hit_length','cs','drain','ar','accuracy','bpm']]\n",
    "x.describe()"
   ]
  },
  {
   "cell_type": "code",
   "execution_count": 254,
   "metadata": {},
   "outputs": [
    {
     "data": {
      "text/html": [
       "<div>\n",
       "<style scoped>\n",
       "    .dataframe tbody tr th:only-of-type {\n",
       "        vertical-align: middle;\n",
       "    }\n",
       "\n",
       "    .dataframe tbody tr th {\n",
       "        vertical-align: top;\n",
       "    }\n",
       "\n",
       "    .dataframe thead th {\n",
       "        text-align: right;\n",
       "    }\n",
       "</style>\n",
       "<table border=\"1\" class=\"dataframe\">\n",
       "  <thead>\n",
       "    <tr style=\"text-align: right;\">\n",
       "      <th></th>\n",
       "      <th>0</th>\n",
       "      <th>1</th>\n",
       "      <th>2</th>\n",
       "      <th>3</th>\n",
       "      <th>4</th>\n",
       "      <th>5</th>\n",
       "    </tr>\n",
       "  </thead>\n",
       "  <tbody>\n",
       "    <tr>\n",
       "      <th>count</th>\n",
       "      <td>2364.000000</td>\n",
       "      <td>2364.000000</td>\n",
       "      <td>2364.000000</td>\n",
       "      <td>2364.000000</td>\n",
       "      <td>2364.000000</td>\n",
       "      <td>2364.000000</td>\n",
       "    </tr>\n",
       "    <tr>\n",
       "      <th>mean</th>\n",
       "      <td>0.079817</td>\n",
       "      <td>0.383080</td>\n",
       "      <td>0.520417</td>\n",
       "      <td>0.780635</td>\n",
       "      <td>0.687170</td>\n",
       "      <td>0.444171</td>\n",
       "    </tr>\n",
       "    <tr>\n",
       "      <th>std</th>\n",
       "      <td>0.052439</td>\n",
       "      <td>0.063354</td>\n",
       "      <td>0.121705</td>\n",
       "      <td>0.174498</td>\n",
       "      <td>0.192216</td>\n",
       "      <td>0.153013</td>\n",
       "    </tr>\n",
       "    <tr>\n",
       "      <th>min</th>\n",
       "      <td>0.000000</td>\n",
       "      <td>0.000000</td>\n",
       "      <td>0.000000</td>\n",
       "      <td>0.000000</td>\n",
       "      <td>0.000000</td>\n",
       "      <td>0.000000</td>\n",
       "    </tr>\n",
       "    <tr>\n",
       "      <th>25%</th>\n",
       "      <td>0.035294</td>\n",
       "      <td>0.350000</td>\n",
       "      <td>0.444444</td>\n",
       "      <td>0.700000</td>\n",
       "      <td>0.600000</td>\n",
       "      <td>0.339263</td>\n",
       "    </tr>\n",
       "    <tr>\n",
       "      <th>50%</th>\n",
       "      <td>0.068731</td>\n",
       "      <td>0.400000</td>\n",
       "      <td>0.555556</td>\n",
       "      <td>0.850000</td>\n",
       "      <td>0.750000</td>\n",
       "      <td>0.470590</td>\n",
       "    </tr>\n",
       "    <tr>\n",
       "      <th>75%</th>\n",
       "      <td>0.115170</td>\n",
       "      <td>0.400000</td>\n",
       "      <td>0.600000</td>\n",
       "      <td>0.900000</td>\n",
       "      <td>0.840000</td>\n",
       "      <td>0.532150</td>\n",
       "    </tr>\n",
       "    <tr>\n",
       "      <th>max</th>\n",
       "      <td>1.000000</td>\n",
       "      <td>1.000000</td>\n",
       "      <td>1.000000</td>\n",
       "      <td>1.000000</td>\n",
       "      <td>1.000000</td>\n",
       "      <td>1.000000</td>\n",
       "    </tr>\n",
       "  </tbody>\n",
       "</table>\n",
       "</div>"
      ],
      "text/plain": [
       "                 0            1            2            3            4  \\\n",
       "count  2364.000000  2364.000000  2364.000000  2364.000000  2364.000000   \n",
       "mean      0.079817     0.383080     0.520417     0.780635     0.687170   \n",
       "std       0.052439     0.063354     0.121705     0.174498     0.192216   \n",
       "min       0.000000     0.000000     0.000000     0.000000     0.000000   \n",
       "25%       0.035294     0.350000     0.444444     0.700000     0.600000   \n",
       "50%       0.068731     0.400000     0.555556     0.850000     0.750000   \n",
       "75%       0.115170     0.400000     0.600000     0.900000     0.840000   \n",
       "max       1.000000     1.000000     1.000000     1.000000     1.000000   \n",
       "\n",
       "                 5  \n",
       "count  2364.000000  \n",
       "mean      0.444171  \n",
       "std       0.153013  \n",
       "min       0.000000  \n",
       "25%       0.339263  \n",
       "50%       0.470590  \n",
       "75%       0.532150  \n",
       "max       1.000000  "
      ]
     },
     "execution_count": 254,
     "metadata": {},
     "output_type": "execute_result"
    }
   ],
   "source": [
    "scaler = MinMaxScaler()\n",
    "x = scaler.fit_transform(x)\n",
    "pd.DataFrame(x).describe()"
   ]
  },
  {
   "cell_type": "code",
   "execution_count": 255,
   "metadata": {},
   "outputs": [],
   "source": [
    "# scaler = StandardScaler()\n",
    "# x = scaler.fit_transform(x)\n",
    "# pd.DataFrame(x).describe()"
   ]
  },
  {
   "cell_type": "code",
   "execution_count": 256,
   "metadata": {},
   "outputs": [
    {
     "data": {
      "text/plain": [
       "[0.655610447879157,\n",
       " 0.8365914474117776,\n",
       " -1.983553499165004,\n",
       " 0.6642733203696558,\n",
       " 0.8383424935269967]"
      ]
     },
     "execution_count": 256,
     "metadata": {},
     "output_type": "execute_result"
    }
   ],
   "source": [
    "models = [LinearRegression(), KNeighborsRegressor(), DecisionTreeRegressor(), BayesianRidge(), SVR()]\n",
    "results = []\n",
    "\n",
    "for model in models:\n",
    "    results.append(cross_val_score(model, x, y, cv = 10).sum() / 10)\n",
    "\n",
    "results"
   ]
  }
 ],
 "metadata": {
  "interpreter": {
   "hash": "31114ee4c0a5c1652c3f229edfa0c825ea27b625704175c6f57d7152219a4654"
  },
  "kernelspec": {
   "display_name": "Python 3.10.4 64-bit",
   "language": "python",
   "name": "python3"
  },
  "language_info": {
   "codemirror_mode": {
    "name": "ipython",
    "version": 3
   },
   "file_extension": ".py",
   "mimetype": "text/x-python",
   "name": "python",
   "nbconvert_exporter": "python",
   "pygments_lexer": "ipython3",
   "version": "3.10.4"
  },
  "orig_nbformat": 4
 },
 "nbformat": 4,
 "nbformat_minor": 2
}
